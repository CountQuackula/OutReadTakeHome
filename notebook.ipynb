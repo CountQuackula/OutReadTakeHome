{
 "cells": [
  {
   "cell_type": "code",
   "execution_count": null,
   "metadata": {},
   "outputs": [],
   "source": [
    "import sys\n",
    "from Util.load import loadFromFolder\n",
    "from Util.debug import showAbstracts, showVectorized\n",
    "from Util.prep import get_vectorized\n",
    "from Util.cluster import kmeans, silhouette, davies_bouldin, cal, plot_cluster\n",
    "\n",
    "def main():\n",
    "    # Specify the path to your PDF folder\n",
    "    pdf_folder_path = 'Docs'\n",
    "    \n",
    "    try:\n",
    "        data_from_folder = loadFromFolder(pdf_folder_path)\n",
    "        # showAbstracts(data_from_folder)\n",
    "\n",
    "        vec = get_vectorized(data_from_folder, keep_nums = False, method = 'tfidf')\n",
    "        # showVectorized(vec)\n",
    "\n",
    "        label_set = kmeans(vec)\n",
    "    except Exception as e:\n",
    "        print(f\"Error loading data from folder: {e}\")\n",
    "\n",
    "main()\n"
   ]
  },
  {
   "cell_type": "code",
   "execution_count": null,
   "metadata": {},
   "outputs": [],
   "source": [
    "plot_cluster(label_set)"
   ]
  }
 ],
 "metadata": {
  "kernelspec": {
   "display_name": "Python 3 (ipykernel)",
   "language": "python",
   "name": "python3"
  },
  "language_info": {
   "codemirror_mode": {
    "name": "ipython",
    "version": 3
   },
   "file_extension": ".py",
   "mimetype": "text/x-python",
   "name": "python",
   "nbconvert_exporter": "python",
   "pygments_lexer": "ipython3",
   "version": "3.11.7"
  }
 },
 "nbformat": 4,
 "nbformat_minor": 4
}
