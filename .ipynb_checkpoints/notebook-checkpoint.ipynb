{
 "cells": [
  {
   "cell_type": "code",
   "execution_count": null,
   "metadata": {},
   "outputs": [],
   "source": [
    "import sys\n",
    "from Util.load import loadFromFolder\n",
    "from Util.debug import showAbstracts, showVectorized\n",
    "from Util.prep import get_vectorized\n",
    "from Util.cluster import kmeans, silhouette, davies_bouldin, cal\n",
    "\n",
    "def main():\n",
    "    # Specify the path to your PDF folder\n",
    "    pdf_folder_path = 'Docs'\n",
    "    \n",
    "    try:\n",
    "        data_from_folder = loadFromFolder(pdf_folder_path)\n",
    "        # showAbstracts(data_from_folder)\n",
    "\n",
    "        vec = get_vectorized(data_from_folder, keep_nums = False, method = 'tfidf')\n",
    "        # showVectorized(vec)\n",
    "\n",
    "        kmeans(vec)\n",
    "    except Exception as e:\n",
    "        print(f\"Error loading data from folder: {e}\")\n",
    "\n",
    "if __name__ == \"__main__\":\n",
    "    origional_stdout = sys.stdout\n",
    "    f = open('log.txt', 'w')\n",
    "    #sys.stdout = f\n",
    "    main()\n",
    "    sys.stdout = origional_stdout\n"
   ]
  }
 ],
 "metadata": {
  "language_info": {
   "name": "python"
  }
 },
 "nbformat": 4,
 "nbformat_minor": 2
}
